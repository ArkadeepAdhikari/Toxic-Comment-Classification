{
 "cells": [
  {
   "cell_type": "code",
   "execution_count": 1,
   "metadata": {
    "collapsed": true,
    "deletable": true,
    "editable": true
   },
   "outputs": [],
   "source": [
    "import pandas as pd\n",
    "import numpy as np\n",
    "import os\n",
    "os.chdir(r\"D:\\Jupyter CS 273A\\Project\\data\")"
   ]
  },
  {
   "cell_type": "code",
   "execution_count": 2,
   "metadata": {
    "collapsed": true,
    "deletable": true,
    "editable": true
   },
   "outputs": [],
   "source": [
    "from sklearn.feature_extraction.text import TfidfVectorizer\n",
    "from sklearn.linear_model import LogisticRegression\n",
    "from sklearn.ensemble import RandomForestClassifier\n",
    "from sklearn.ensemble import GradientBoostingClassifier\n",
    "from sklearn.model_selection import cross_val_score\n",
    "from scipy.sparse import hstack,csr_matrix\n",
    "from sklearn.preprocessing import StandardScaler\n",
    "from sklearn.metrics import roc_curve, auc\n",
    "import matplotlib.pyplot as plt"
   ]
  },
  {
   "cell_type": "code",
   "execution_count": 3,
   "metadata": {
    "collapsed": true,
    "deletable": true,
    "editable": true
   },
   "outputs": [],
   "source": [
    "from sklearn.metrics import confusion_matrix\n",
    "from sklearn.model_selection import train_test_split"
   ]
  },
  {
   "cell_type": "code",
   "execution_count": 4,
   "metadata": {
    "collapsed": true,
    "deletable": true,
    "editable": true
   },
   "outputs": [],
   "source": [
    "train = pd.read_csv('train.csv').fillna(' ')\n",
    "test = pd.read_csv('test.csv').fillna(' ')\n",
    "\n",
    "train=train.sample(frac=0.25, replace=True)\n",
    "\n",
    "train,val=train_test_split(train,test_size=0.25)\n"
   ]
  },
  {
   "cell_type": "code",
   "execution_count": 5,
   "metadata": {
    "collapsed": true,
    "deletable": true,
    "editable": true
   },
   "outputs": [],
   "source": [
    "class_names = ['toxic', 'severe_toxic', 'obscene', 'threat', 'insult', 'identity_hate']"
   ]
  },
  {
   "cell_type": "code",
   "execution_count": 6,
   "metadata": {
    "collapsed": true,
    "deletable": true,
    "editable": true
   },
   "outputs": [],
   "source": [
    "train_text = train['comment_text']\n",
    "validation_text = val['comment_text']\n",
    "\n",
    "test_text = test['comment_text']\n",
    "\n",
    "all_text = pd.concat([train_text, test_text,validation_text])"
   ]
  },
  {
   "cell_type": "code",
   "execution_count": 7,
   "metadata": {
    "collapsed": false,
    "deletable": true,
    "editable": true
   },
   "outputs": [
    {
     "data": {
      "text/plain": [
       "TfidfVectorizer(analyzer='word', binary=False, decode_error='strict',\n",
       "        dtype=<class 'numpy.int64'>, encoding='utf-8', input='content',\n",
       "        lowercase=True, max_df=1.0, max_features=20000, min_df=1,\n",
       "        ngram_range=(1, 3), norm='l2', preprocessor=None, smooth_idf=True,\n",
       "        stop_words='english', strip_accents='unicode', sublinear_tf=True,\n",
       "        token_pattern='\\\\w{1,}', tokenizer=None, use_idf=True,\n",
       "        vocabulary=None)"
      ]
     },
     "execution_count": 7,
     "metadata": {},
     "output_type": "execute_result"
    }
   ],
   "source": [
    "word_vectorizer = TfidfVectorizer(sublinear_tf=True,strip_accents='unicode',analyzer='word',token_pattern=r'\\w{1,}',\\\n",
    "                                  stop_words='english',ngram_range=(1,3),max_features=20000)\n",
    "word_vectorizer.fit(all_text)"
   ]
  },
  {
   "cell_type": "code",
   "execution_count": 8,
   "metadata": {
    "collapsed": true,
    "deletable": true,
    "editable": true
   },
   "outputs": [],
   "source": [
    "train_features = word_vectorizer.transform(train_text)\n",
    "test_features = word_vectorizer.transform(test_text)\n",
    "val_features = word_vectorizer.transform(validation_text)"
   ]
  },
  {
   "cell_type": "code",
   "execution_count": 11,
   "metadata": {
    "collapsed": false,
    "deletable": true,
    "editable": true
   },
   "outputs": [
    {
     "name": "stdout",
     "output_type": "stream",
     "text": [
      "50\n",
      "50\n",
      "50\n",
      "50\n",
      "50\n",
      "50\n",
      "100\n",
      "100\n",
      "100\n",
      "100\n",
      "100\n",
      "100\n",
      "300\n",
      "300\n",
      "300\n",
      "300\n",
      "300\n",
      "300\n",
      "500\n",
      "500\n",
      "500\n",
      "500\n",
      "500\n",
      "500\n",
      "700\n",
      "700\n",
      "700\n",
      "700\n",
      "700\n",
      "700\n",
      "1000\n",
      "1000\n",
      "1000\n",
      "1000\n",
      "1000\n",
      "1000\n",
      "1400\n",
      "1400\n",
      "1400\n",
      "1400\n",
      "1400\n",
      "1400\n"
     ]
    },
    {
     "data": {
      "text/plain": [
       "<Figure size 720x360 with 0 Axes>"
      ]
     },
     "metadata": {},
     "output_type": "display_data"
    }
   ],
   "source": [
    "scores = []\n",
    "test_pred = pd.DataFrame.from_dict({'id': test['id']})\n",
    "train_pred= pd.DataFrame.from_dict({'id': train['id']})\n",
    "val_pred= pd.DataFrame.from_dict({'id': val['id']})\n",
    "aucsmean=[]\n",
    "plt.figure(figsize=(10,5))\n",
    "\n",
    "treen=[50,100,300,500,700,1000,1400]\n",
    "#treen=[5,10]\n",
    "\n",
    "\n",
    "for i in treen:\n",
    "    aucs=[]\n",
    "    for class_name in class_names:\n",
    "        print(i)\n",
    "        train_target = train[class_name]\n",
    "        classifier = GradientBoostingClassifier(n_estimators=i, max_depth=7)\n",
    "\n",
    "        classifier.fit(train_features, train_target)\n",
    "        #train_pred[class_name]=classifier.predict_proba(train_features)[:, 1]\n",
    "        val_pred[class_name]=classifier.predict_proba(val_features)[:, 1]\n",
    "        #test_pred[class_name]=classifier.predict_proba(test_features)[:, 1]\n",
    "\n",
    "        false_positive_rate, recall, thresholds = roc_curve(val[class_name],val_pred[class_name])\n",
    "        roc_auc = auc(false_positive_rate, recall)\n",
    "        #print(roc_auc)\n",
    "        aucs.append(roc_auc)\n",
    "    aucsmean.append(np.mean(aucs))\n",
    "\n",
    "        #plt.plot(false_positive_rate, recall, label='AUC = %0.2f' %roc_auc)\n",
    "    "
   ]
  },
  {
   "cell_type": "code",
   "execution_count": 23,
   "metadata": {
    "collapsed": false,
    "deletable": true,
    "editable": true
   },
   "outputs": [
    {
     "data": {
      "image/png": "[encoded data removed]",
      "text/plain": [
       "<Figure size 720x360 with 1 Axes>"
      ]
     },
     "metadata": {},
     "output_type": "display_data"
    }
   ],
   "source": [
    "plt.figure(figsize=(10,5))\n",
    "plt.plot(treen[0:6], aucsmean[0:6])\n",
    "plt.xticks(np.arange(0, 1100, step=100))\n",
    "plt.xlabel(\"No of estimators\")\n",
    "plt.ylabel(\"AUC\")\n",
    "#plt.legend(class_names,loc=\"lower right\")\n",
    "plt.show()\n"
   ]
  },
  {
   "cell_type": "code",
   "execution_count": 9,
   "metadata": {
    "collapsed": false,
    "deletable": true,
    "editable": true
   },
   "outputs": [
    {
     "name": "stdout",
     "output_type": "stream",
     "text": [
      "Training class: toxic\n",
      "Training class: severe_toxic\n",
      "Training class: obscene\n",
      "Training class: threat\n",
      "Training class: insult\n",
      "Training class: identity_hate\n"
     ]
    },
    {
     "data": {
      "image/png": "[encoded data removed]",
      "text/plain": [
       "<Figure size 720x360 with 1 Axes>"
      ]
     },
     "metadata": {},
     "output_type": "display_data"
    },
    {
     "name": "stdout",
     "output_type": "stream",
     "text": [
      "Validation AUC = 0.8738595033276598\n"
     ]
    }
   ],
   "source": [
    "scores = []\n",
    "test_pred = pd.DataFrame.from_dict({'id': test['id']})\n",
    "train_pred= pd.DataFrame.from_dict({'id': train['id']})\n",
    "val_pred= pd.DataFrame.from_dict({'id': val['id']})\n",
    "aucs=[]\n",
    "plt.figure(figsize=(10,5))\n",
    "\n",
    "for class_name in class_names:\n",
    "    print(\"Training class: \"+class_name)\n",
    "    train_target = train[class_name]\n",
    "    classifier = GradientBoostingClassifier(n_estimators=700, max_depth=7)\n",
    "    \n",
    "    classifier.fit(train_features, train_target)\n",
    "    #train_pred[class_name]=classifier.predict_proba(train_features)[:, 1]\n",
    "    val_pred[class_name]=classifier.predict_proba(val_features)[:, 1]\n",
    "    #test_pred[class_name]=classifier.predict_proba(test_features)[:, 1]\n",
    "\n",
    "\n",
    "    false_positive_rate, recall, thresholds = roc_curve(val[class_name],val_pred[class_name])\n",
    "    roc_auc = auc(false_positive_rate, recall)\n",
    "    #print(roc_auc)\n",
    "    aucs.append(roc_auc)\n",
    "\n",
    "    plt.plot(false_positive_rate, recall, label='AUC = %0.2f' %roc_auc)\n",
    "    \n",
    "plt.title(\"ROC Curves\")\n",
    "plt.xlabel(\"FPR\")\n",
    "plt.ylabel(\"Recall\")\n",
    "plt.legend(class_names,loc=\"lower right\")\n",
    "plt.show()\n",
    "\n",
    "print(\"Validation AUC = \"+str(np.mean(aucs)))"
   ]
  },
  {
   "cell_type": "code",
   "execution_count": 49,
   "metadata": {
    "collapsed": true,
    "deletable": true,
    "editable": true
   },
   "outputs": [],
   "source": [
    "test_pred.to_csv('model_GBT.csv', index=False)"
   ]
  },
  {
   "cell_type": "code",
   "execution_count": null,
   "metadata": {
    "collapsed": true,
    "deletable": true,
    "editable": true
   },
   "outputs": [],
   "source": []
  },
  {
   "cell_type": "code",
   "execution_count": null,
   "metadata": {
    "collapsed": true,
    "deletable": true,
    "editable": true
   },
   "outputs": [],
   "source": []
  },
  {
   "cell_type": "code",
   "execution_count": null,
   "metadata": {
    "collapsed": true,
    "deletable": true,
    "editable": true
   },
   "outputs": [],
   "source": []
  },
  {
   "cell_type": "code",
   "execution_count": null,
   "metadata": {
    "collapsed": true,
    "deletable": true,
    "editable": true
   },
   "outputs": [],
   "source": []
  }
 ],
 "metadata": {
  "kernelspec": {
   "display_name": "Python 3",
   "language": "python",
   "name": "python3"
  },
  "language_info": {
   "codemirror_mode": {
    "name": "ipython",
    "version": 3
   },
   "file_extension": ".py",
   "mimetype": "text/x-python",
   "name": "python",
   "nbconvert_exporter": "python",
   "pygments_lexer": "ipython3",
   "version": "3.5.2"
  }
 },
 "nbformat": 4,
 "nbformat_minor": 2
}
